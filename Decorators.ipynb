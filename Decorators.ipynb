{
 "cells": [
  {
   "cell_type": "markdown",
   "metadata": {},
   "source": [
    "# Decorator"
   ]
  },
  {
   "cell_type": "markdown",
   "metadata": {},
   "source": [
    "A decorator is a callable that takes another function as argument(the decorated function).\n",
    "\n",
    "This code,\n",
    "\n",
    "```python\n",
    "@decorate\n",
    "def target():\n",
    "    print(\"running target()\")\n",
    "```\n",
    "Has the same effect as writing this:\n",
    "```python\n",
    "def target():\n",
    "    print(\"running target()\")\n",
    "\n",
    "target = decorate(target)\n",
    "```\n",
    "\n"
   ]
  },
  {
   "cell_type": "code",
   "execution_count": 1,
   "metadata": {
    "pycharm": {
     "is_executing": false
    }
   },
   "outputs": [],
   "source": [
    "def decorate(func):\n",
    "    def inner():\n",
    "        print(\"running inner()\")\n",
    "    return inner\n",
    "\n",
    "@decorate\n",
    "def target():\n",
    "    print(\"running target()\")"
   ]
  },
  {
   "cell_type": "code",
   "execution_count": 2,
   "metadata": {
    "pycharm": {
     "is_executing": false
    }
   },
   "outputs": [
    {
     "name": "stdout",
     "output_type": "stream",
     "text": [
      "running inner()\n"
     ]
    }
   ],
   "source": [
    "target()"
   ]
  },
  {
   "cell_type": "markdown",
   "metadata": {},
   "source": [
    "## When Python executes decorators"
   ]
  },
  {
   "cell_type": "markdown",
   "metadata": {},
   "source": [
    "Decorators are executed as soon as the module is imported, but the decorator function only run when they are explicitly invoked."
   ]
  },
  {
   "cell_type": "code",
   "execution_count": 3,
   "metadata": {},
   "outputs": [
    {
     "name": "stdout",
     "output_type": "stream",
     "text": [
      "running register <function f1 at 0x110b8d9d8>\n",
      "running register <function f2 at 0x110b8dea0>\n"
     ]
    }
   ],
   "source": [
    "registry=[]\n",
    "\n",
    "def register(func):\n",
    "    print(f'running register {func}')\n",
    "    registry.append(func)\n",
    "    return func\n",
    "\n",
    "@register\n",
    "def f1():\n",
    "    print(\"running f1()\")\n",
    "    \n",
    "@register\n",
    "def f2():\n",
    "    print(\"running f2()\")"
   ]
  },
  {
   "cell_type": "code",
   "execution_count": 4,
   "metadata": {},
   "outputs": [
    {
     "data": {
      "text/plain": [
       "[<function __main__.f1()>, <function __main__.f2()>]"
      ]
     },
     "execution_count": 4,
     "metadata": {},
     "output_type": "execute_result"
    }
   ],
   "source": [
    "registry"
   ]
  },
  {
   "cell_type": "markdown",
   "metadata": {},
   "source": [
    "In the above example, even though the register decorator returns the decorated function unchanged, it is not useless. The similar techniques are used in many Python web frameworks to add functions to some central registry, for example, a registry mapping URL patterns to functions that generate HTTP responses."
   ]
  },
  {
   "cell_type": "markdown",
   "metadata": {},
   "source": [
    "## Decorator-enhanced Strategy pattern"
   ]
  },
  {
   "cell_type": "code",
   "execution_count": 5,
   "metadata": {},
   "outputs": [],
   "source": [
    "promos = []\n",
    "\n",
    "def promotion(promo_fun):\n",
    "    promos.append(promo_fun)\n",
    "    return promo_fun\n",
    "\n",
    "@promotion\n",
    "def fidelity(order):\n",
    "    \"\"\"5% discount for customers with 1000 or more fidelity points\"\"\"\n",
    "    return order.total()*.05 if order.customer.fidelity >=1000 else 0\n",
    "\n",
    "@promotion\n",
    "def bulk_item(order):\n",
    "    \"\"\"10% discount for orders with 20 or more units\"\"\"\n",
    "    discount = 0\n",
    "    for item in order.cart:\n",
    "        if item.quatity >=10:\n",
    "            discount+=item.total()*0.1\n",
    "    return discount\n",
    "\n",
    "@promotion\n",
    "def large_order(order):\n",
    "    \"\"\"7% discount for all orders with 10 or more disticnt items\"\"\"\n",
    "    distinct_items = {item.product for item in order.cart}\n",
    "    \n",
    "    if len(distinct_items)>=10:\n",
    "        return order.total*.07\n",
    "    return 0\n",
    "\n",
    "def best_promo(order):\n",
    "    \"\"\"Select best discount available\"\"\"\n",
    "    return max(promo(order) for promo in promos)"
   ]
  },
  {
   "cell_type": "markdown",
   "metadata": {},
   "source": [
    "Advantages of this approach:\n",
    " * The @promotion highlights the purpose of the decorated function, and also makes it easy to temporarily disable a promotion; just comment out the decorator.\n",
    " * Promotional discount strategies may be defined in other modules, anywhere in the system, as long as the @promotion decorator is applied to them."
   ]
  },
  {
   "cell_type": "markdown",
   "metadata": {},
   "source": [
    "## Variable scope rules"
   ]
  },
  {
   "cell_type": "code",
   "execution_count": 12,
   "metadata": {},
   "outputs": [],
   "source": [
    "b = 6\n",
    "def f2(a):\n",
    "    print(a)\n",
    "    print(b)"
   ]
  },
  {
   "cell_type": "code",
   "execution_count": 13,
   "metadata": {},
   "outputs": [
    {
     "name": "stdout",
     "output_type": "stream",
     "text": [
      "1\n",
      "6\n"
     ]
    }
   ],
   "source": [
    "f2(1)"
   ]
  },
  {
   "cell_type": "markdown",
   "metadata": {},
   "source": [
    "What if we include, an assigment statement for b after printing it?"
   ]
  },
  {
   "cell_type": "code",
   "execution_count": 14,
   "metadata": {},
   "outputs": [],
   "source": [
    "b = 6\n",
    "def f2(a):\n",
    "    print(a)\n",
    "    print(b)\n",
    "    b=9"
   ]
  },
  {
   "cell_type": "code",
   "execution_count": 17,
   "metadata": {},
   "outputs": [
    {
     "name": "stdout",
     "output_type": "stream",
     "text": [
      "4\n"
     ]
    },
    {
     "name": "stderr",
     "output_type": "stream",
     "text": [
      "local variable 'b' referenced before assignment\n"
     ]
    }
   ],
   "source": [
    "import sys\n",
    "try:\n",
    "    f2(4)\n",
    "except Exception as e:\n",
    "    print(e, file=sys.stderr)"
   ]
  },
  {
   "cell_type": "markdown",
   "metadata": {},
   "source": [
    "The fact is, when Python compiles the body of the function, it decides that b is a local variable because it is assigned within the function."
   ]
  },
  {
   "cell_type": "markdown",
   "metadata": {},
   "source": [
    "_This is not a bug, but a design choice: Python does not require you to declare variables, but assumes that a variable assigned in the body of a function is local._"
   ]
  },
  {
   "cell_type": "markdown",
   "metadata": {},
   "source": [
    "If we want the interpreter to treat b as a global variable in spite of the assignment within the function, we use `global` declaration."
   ]
  },
  {
   "cell_type": "code",
   "execution_count": 18,
   "metadata": {},
   "outputs": [],
   "source": [
    "b = 6\n",
    "def f2(a):\n",
    "    global b\n",
    "    print(a)\n",
    "    print(b)\n",
    "    b=9"
   ]
  },
  {
   "cell_type": "code",
   "execution_count": 19,
   "metadata": {},
   "outputs": [
    {
     "name": "stdout",
     "output_type": "stream",
     "text": [
      "4\n",
      "6\n"
     ]
    }
   ],
   "source": [
    "f2(4)"
   ]
  },
  {
   "cell_type": "code",
   "execution_count": 20,
   "metadata": {},
   "outputs": [
    {
     "data": {
      "text/plain": [
       "9"
      ]
     },
     "execution_count": 20,
     "metadata": {},
     "output_type": "execute_result"
    }
   ],
   "source": [
    "b"
   ]
  },
  {
   "cell_type": "code",
   "execution_count": 21,
   "metadata": {},
   "outputs": [],
   "source": [
    "from dis import dis"
   ]
  },
  {
   "cell_type": "code",
   "execution_count": 22,
   "metadata": {},
   "outputs": [
    {
     "name": "stdout",
     "output_type": "stream",
     "text": [
      "  4           0 LOAD_GLOBAL              0 (print)\n",
      "              2 LOAD_FAST                0 (a)\n",
      "              4 CALL_FUNCTION            1\n",
      "              6 POP_TOP\n",
      "\n",
      "  5           8 LOAD_GLOBAL              0 (print)\n",
      "             10 LOAD_GLOBAL              1 (b)\n",
      "             12 CALL_FUNCTION            1\n",
      "             14 POP_TOP\n",
      "\n",
      "  6          16 LOAD_CONST               1 (9)\n",
      "             18 STORE_GLOBAL             1 (b)\n",
      "             20 LOAD_CONST               0 (None)\n",
      "             22 RETURN_VALUE\n"
     ]
    }
   ],
   "source": [
    "dis(f2)"
   ]
  },
  {
   "cell_type": "markdown",
   "metadata": {},
   "source": [
    "The CPython VM that runs the bytecode is a stack machine, so the operations LOAD and POP refer to the stack."
   ]
  },
  {
   "cell_type": "markdown",
   "metadata": {},
   "source": [
    "## Closures"
   ]
  },
  {
   "cell_type": "markdown",
   "metadata": {},
   "source": [
    "Actually, a closure is a function with an extended scope that encompasses non-global variables referenced in the body of the function but not defined there. _It does not matter whether the function is anonymous or not, what matters is that it can access non-global variables that are defined outside of the body._"
   ]
  },
  {
   "cell_type": "markdown",
   "metadata": {},
   "source": [
    "A class to calculate running average:"
   ]
  },
  {
   "cell_type": "code",
   "execution_count": 23,
   "metadata": {},
   "outputs": [],
   "source": [
    "class Averager():\n",
    "    def __init__(self):\n",
    "        self.series = []\n",
    "    \n",
    "    def __call__(self, new_value):\n",
    "        self.series.append(new_value)\n",
    "        return sum(self.series)/len(self.series)"
   ]
  },
  {
   "cell_type": "code",
   "execution_count": 25,
   "metadata": {},
   "outputs": [
    {
     "data": {
      "text/plain": [
       "10.0"
      ]
     },
     "execution_count": 25,
     "metadata": {},
     "output_type": "execute_result"
    }
   ],
   "source": [
    "avg = Averager()\n",
    "avg(10)"
   ]
  },
  {
   "cell_type": "code",
   "execution_count": 26,
   "metadata": {},
   "outputs": [
    {
     "data": {
      "text/plain": [
       "10.5"
      ]
     },
     "execution_count": 26,
     "metadata": {},
     "output_type": "execute_result"
    }
   ],
   "source": [
    "avg(11)"
   ]
  },
  {
   "cell_type": "markdown",
   "metadata": {},
   "source": [
    "Below is a functional implementation for the same:"
   ]
  },
  {
   "cell_type": "code",
   "execution_count": 29,
   "metadata": {},
   "outputs": [],
   "source": [
    "def make_averager():\n",
    "    series = []\n",
    "    \n",
    "    def averager(new_value):\n",
    "        series.append(new_value)\n",
    "        \n",
    "        return sum(series)/len(series)\n",
    "    return averager"
   ]
  },
  {
   "cell_type": "markdown",
   "metadata": {},
   "source": [
    "<img src=\"images/closure1.png\" width=\"250\"/>\n",
    "Within averager, series is a free variable. This is a technical term meaning a variable that is bound in the local scope."
   ]
  },
  {
   "cell_type": "code",
   "execution_count": 30,
   "metadata": {},
   "outputs": [
    {
     "data": {
      "text/plain": [
       "10.0"
      ]
     },
     "execution_count": 30,
     "metadata": {},
     "output_type": "execute_result"
    }
   ],
   "source": [
    "avg = make_averager()\n",
    "avg(10)"
   ]
  },
  {
   "cell_type": "code",
   "execution_count": 31,
   "metadata": {},
   "outputs": [
    {
     "data": {
      "text/plain": [
       "('new_value',)"
      ]
     },
     "execution_count": 31,
     "metadata": {},
     "output_type": "execute_result"
    }
   ],
   "source": [
    "avg.__code__.co_varnames"
   ]
  },
  {
   "cell_type": "code",
   "execution_count": 32,
   "metadata": {},
   "outputs": [
    {
     "data": {
      "text/plain": [
       "('series',)"
      ]
     },
     "execution_count": 32,
     "metadata": {},
     "output_type": "execute_result"
    }
   ],
   "source": [
    "avg.__code__.co_freevars"
   ]
  },
  {
   "cell_type": "markdown",
   "metadata": {},
   "source": [
    "The only situation in which a function may need to deal with external variables that are non-global is when it is nested in another function."
   ]
  },
  {
   "cell_type": "markdown",
   "metadata": {},
   "source": [
    "## The nonlocal declaration"
   ]
  },
  {
   "cell_type": "markdown",
   "metadata": {},
   "source": [
    "The below code tries to make the make_averager better, by avoiding the storage for all the inputs used."
   ]
  },
  {
   "cell_type": "code",
   "execution_count": 41,
   "metadata": {},
   "outputs": [],
   "source": [
    "def make_averager():\n",
    "    count = 0\n",
    "    total = 0\n",
    "    \n",
    "    def averager(new_value):\n",
    "        count+=1\n",
    "        total+=new_value\n",
    "        \n",
    "        return total/count\n",
    "    return averager"
   ]
  },
  {
   "cell_type": "code",
   "execution_count": 42,
   "metadata": {},
   "outputs": [
    {
     "ename": "UnboundLocalError",
     "evalue": "local variable 'count' referenced before assignment",
     "output_type": "error",
     "traceback": [
      "\u001b[0;31m---------------------------------------------------------------------------\u001b[0m",
      "\u001b[0;31mUnboundLocalError\u001b[0m                         Traceback (most recent call last)",
      "\u001b[0;32m<ipython-input-42-b5a6bb6dc4cd>\u001b[0m in \u001b[0;36m<module>\u001b[0;34m()\u001b[0m\n\u001b[1;32m      1\u001b[0m \u001b[0mavg\u001b[0m \u001b[0;34m=\u001b[0m \u001b[0mmake_averager\u001b[0m\u001b[0;34m(\u001b[0m\u001b[0;34m)\u001b[0m\u001b[0;34m\u001b[0m\u001b[0m\n\u001b[0;32m----> 2\u001b[0;31m \u001b[0mavg\u001b[0m\u001b[0;34m(\u001b[0m\u001b[0;36m10\u001b[0m\u001b[0;34m)\u001b[0m\u001b[0;34m\u001b[0m\u001b[0m\n\u001b[0m",
      "\u001b[0;32m<ipython-input-41-76cd156dd950>\u001b[0m in \u001b[0;36maverager\u001b[0;34m(new_value)\u001b[0m\n\u001b[1;32m      4\u001b[0m \u001b[0;34m\u001b[0m\u001b[0m\n\u001b[1;32m      5\u001b[0m     \u001b[0;32mdef\u001b[0m \u001b[0maverager\u001b[0m\u001b[0;34m(\u001b[0m\u001b[0mnew_value\u001b[0m\u001b[0;34m)\u001b[0m\u001b[0;34m:\u001b[0m\u001b[0;34m\u001b[0m\u001b[0m\n\u001b[0;32m----> 6\u001b[0;31m         \u001b[0mcount\u001b[0m\u001b[0;34m+=\u001b[0m\u001b[0;36m1\u001b[0m\u001b[0;34m\u001b[0m\u001b[0m\n\u001b[0m\u001b[1;32m      7\u001b[0m         \u001b[0mtotal\u001b[0m\u001b[0;34m+=\u001b[0m\u001b[0mnew_value\u001b[0m\u001b[0;34m\u001b[0m\u001b[0m\n\u001b[1;32m      8\u001b[0m \u001b[0;34m\u001b[0m\u001b[0m\n",
      "\u001b[0;31mUnboundLocalError\u001b[0m: local variable 'count' referenced before assignment"
     ]
    }
   ],
   "source": [
    "avg = make_averager()\n",
    "avg(10)"
   ]
  },
  {
   "cell_type": "markdown",
   "metadata": {},
   "source": [
    "The problem is that the statement count += 1 actually means the same as count = count + 1, when count is a number or any immutable type. So we are actually assigning to count in the body of averager, and that makes it a local variable."
   ]
  },
  {
   "cell_type": "markdown",
   "metadata": {},
   "source": [
    "To workaround this, the `nonlocal` declaration was introduced in Python 3. It lets you flag a variable as a free variable even when it is assigned a new value within the function. "
   ]
  },
  {
   "cell_type": "code",
   "execution_count": 43,
   "metadata": {},
   "outputs": [],
   "source": [
    "def make_averager():\n",
    "    count = 0\n",
    "    total = 0\n",
    "    \n",
    "    def averager(new_value):\n",
    "        nonlocal count, total\n",
    "        count+=1\n",
    "        total+=new_value\n",
    "        \n",
    "        return total/count\n",
    "    return averager"
   ]
  },
  {
   "cell_type": "code",
   "execution_count": 44,
   "metadata": {},
   "outputs": [
    {
     "data": {
      "text/plain": [
       "10.0"
      ]
     },
     "execution_count": 44,
     "metadata": {},
     "output_type": "execute_result"
    }
   ],
   "source": [
    "avg = make_averager()\n",
    "avg(10)"
   ]
  },
  {
   "cell_type": "markdown",
   "metadata": {},
   "source": [
    "## Implementing a single decorator"
   ]
  },
  {
   "cell_type": "markdown",
   "metadata": {},
   "source": [
    "A simple decorator to output the running time of functions"
   ]
  },
  {
   "cell_type": "code",
   "execution_count": 46,
   "metadata": {},
   "outputs": [],
   "source": [
    "import time\n",
    "\n",
    "def clock(func):\n",
    "    def clocked(*args):\n",
    "        t0 = time.perf_counter()\n",
    "        result = func(*args)\n",
    "        elapsed = time.perf_counter()-t0\n",
    "        \n",
    "        name = func.__name__\n",
    "        arg_str = ','.join(repr(arg) for arg in args)\n",
    "        \n",
    "        print('[%0.8fs] %s(%s) -> %r' % (elapsed, name, arg_str, result ))\n",
    "        return result\n",
    "    return clocked"
   ]
  },
  {
   "cell_type": "code",
   "execution_count": 49,
   "metadata": {},
   "outputs": [],
   "source": [
    "from functools import reduce\n",
    "from operator import mul\n",
    "@clock\n",
    "def factorial(n):\n",
    "    return reduce(mul, range(1, n+1))"
   ]
  },
  {
   "cell_type": "code",
   "execution_count": 50,
   "metadata": {
    "scrolled": true
   },
   "outputs": [
    {
     "name": "stdout",
     "output_type": "stream",
     "text": [
      "[0.00000235s] factorial(1) -> 1\n",
      "[0.00000482s] factorial(2) -> 2\n",
      "[0.00000265s] factorial(3) -> 6\n",
      "[0.00000158s] factorial(4) -> 24\n"
     ]
    },
    {
     "data": {
      "text/plain": [
       "[1, 2, 6, 24]"
      ]
     },
     "execution_count": 50,
     "metadata": {},
     "output_type": "execute_result"
    }
   ],
   "source": [
    "[factorial(n) for n in range(1, 5)]"
   ]
  },
  {
   "cell_type": "code",
   "execution_count": 51,
   "metadata": {},
   "outputs": [
    {
     "data": {
      "text/plain": [
       "'clocked'"
      ]
     },
     "execution_count": 51,
     "metadata": {},
     "output_type": "execute_result"
    }
   ],
   "source": [
    "factorial.__name__"
   ]
  },
  {
   "cell_type": "markdown",
   "metadata": {},
   "source": [
    "Let's improve the clock implementation by supporting the keyword arguments, and copy relevant attributes from func to clocked."
   ]
  },
  {
   "cell_type": "code",
   "execution_count": 54,
   "metadata": {},
   "outputs": [],
   "source": [
    "import time\n",
    "import functools\n",
    "\n",
    "def clock(func):\n",
    "    @functools.wraps(func)\n",
    "    def clocked(*args, **kwargs):\n",
    "        t0 = time.perf_counter()\n",
    "        result = func(*args)\n",
    "        elapsed = time.perf_counter()-t0\n",
    "        \n",
    "        arg_list=[]\n",
    "        if args:\n",
    "            arg_list.append(', '.join(repr(arg) for arg in args))\n",
    "        \n",
    "        if kwargs:\n",
    "            pairs = [f'{k}={v}' for k,v in kwargs.items()]\n",
    "            arg_list.append(', '.join(pairs))\n",
    "        \n",
    "        name = func.__name__\n",
    "        arg_str = ','.join(arg_list)\n",
    "        \n",
    "        print('[%0.8fs] %s(%s) -> %r' % (elapsed, name, arg_str, result ))\n",
    "        return result\n",
    "    return clocked"
   ]
  },
  {
   "cell_type": "markdown",
   "metadata": {},
   "source": [
    "## Decorators in the standard library"
   ]
  },
  {
   "cell_type": "markdown",
   "metadata": {},
   "source": [
    "### Memoization with functools.lru_cache"
   ]
  },
  {
   "cell_type": "markdown",
   "metadata": {},
   "source": [
    "The very costly recursive way to compute the Nth number in the Fibonocci series."
   ]
  },
  {
   "cell_type": "code",
   "execution_count": 56,
   "metadata": {},
   "outputs": [],
   "source": [
    "@clock\n",
    "def fibonacci(n):\n",
    "    if n<2:\n",
    "        return n\n",
    "    \n",
    "    return fibonacci(n-1)+fibonacci(n-2)"
   ]
  },
  {
   "cell_type": "code",
   "execution_count": 59,
   "metadata": {},
   "outputs": [
    {
     "name": "stdout",
     "output_type": "stream",
     "text": [
      "[0.00000059s] fibonacci(1) -> 1\n",
      "[0.00000121s] fibonacci(0) -> 0\n",
      "[0.00021414s] fibonacci(2) -> 1\n",
      "[0.00000052s] fibonacci(1) -> 1\n",
      "[0.00027737s] fibonacci(3) -> 2\n",
      "[0.00000041s] fibonacci(1) -> 1\n",
      "[0.00000101s] fibonacci(0) -> 0\n",
      "[0.00027358s] fibonacci(2) -> 1\n",
      "[0.00069276s] fibonacci(4) -> 3\n",
      "[0.00000038s] fibonacci(1) -> 1\n",
      "[0.00000042s] fibonacci(0) -> 0\n",
      "[0.00007576s] fibonacci(2) -> 1\n",
      "[0.00000059s] fibonacci(1) -> 1\n",
      "[0.00013292s] fibonacci(3) -> 2\n",
      "[0.00088870s] fibonacci(5) -> 5\n",
      "[0.00000033s] fibonacci(1) -> 1\n",
      "[0.00000040s] fibonacci(0) -> 0\n",
      "[0.00004702s] fibonacci(2) -> 1\n",
      "[0.00000032s] fibonacci(1) -> 1\n",
      "[0.00008817s] fibonacci(3) -> 2\n",
      "[0.00000030s] fibonacci(1) -> 1\n",
      "[0.00000105s] fibonacci(0) -> 0\n",
      "[0.00016157s] fibonacci(2) -> 1\n",
      "[0.00045505s] fibonacci(4) -> 3\n",
      "[0.00140791s] fibonacci(6) -> 8\n",
      "[0.00000043s] fibonacci(1) -> 1\n",
      "[0.00000041s] fibonacci(0) -> 0\n",
      "[0.00005760s] fibonacci(2) -> 1\n",
      "[0.00000040s] fibonacci(1) -> 1\n",
      "[0.00012071s] fibonacci(3) -> 2\n",
      "[0.00000031s] fibonacci(1) -> 1\n",
      "[0.00000068s] fibonacci(0) -> 0\n",
      "[0.00038724s] fibonacci(2) -> 1\n",
      "[0.00062568s] fibonacci(4) -> 3\n",
      "[0.00000054s] fibonacci(1) -> 1\n",
      "[0.00000061s] fibonacci(0) -> 0\n",
      "[0.00007060s] fibonacci(2) -> 1\n",
      "[0.00000064s] fibonacci(1) -> 1\n",
      "[0.00014273s] fibonacci(3) -> 2\n",
      "[0.00084579s] fibonacci(5) -> 5\n",
      "[0.00229742s] fibonacci(7) -> 13\n"
     ]
    },
    {
     "data": {
      "text/plain": [
       "13"
      ]
     },
     "execution_count": 59,
     "metadata": {},
     "output_type": "execute_result"
    }
   ],
   "source": [
    "fibonacci(7)"
   ]
  },
  {
   "cell_type": "markdown",
   "metadata": {},
   "source": [
    "Faster implementation using caching."
   ]
  },
  {
   "cell_type": "code",
   "execution_count": 60,
   "metadata": {},
   "outputs": [],
   "source": [
    "@functools.lru_cache()\n",
    "@clock\n",
    "def fibonacci(n):\n",
    "    if n<2:\n",
    "        return n\n",
    "    \n",
    "    return fibonacci(n-1)+fibonacci(n-2)"
   ]
  },
  {
   "cell_type": "code",
   "execution_count": 61,
   "metadata": {},
   "outputs": [
    {
     "name": "stdout",
     "output_type": "stream",
     "text": [
      "[0.00000065s] fibonacci(1) -> 1\n",
      "[0.00000048s] fibonacci(0) -> 0\n",
      "[0.00017859s] fibonacci(2) -> 1\n",
      "[0.00021618s] fibonacci(3) -> 2\n",
      "[0.00023932s] fibonacci(4) -> 3\n",
      "[0.00028955s] fibonacci(5) -> 5\n",
      "[0.00031572s] fibonacci(6) -> 8\n",
      "[0.00034019s] fibonacci(7) -> 13\n"
     ]
    },
    {
     "data": {
      "text/plain": [
       "13"
      ]
     },
     "execution_count": 61,
     "metadata": {},
     "output_type": "execute_result"
    }
   ],
   "source": [
    "fibonacci(7)"
   ]
  },
  {
   "cell_type": "markdown",
   "metadata": {},
   "source": [
    "Besides making silly recursive algorithms viable, lru_cache really shines in applications that need to fetch information from web."
   ]
  },
  {
   "cell_type": "markdown",
   "metadata": {},
   "source": [
    "```python\n",
    "functools.lru_cache(maxsize=128, typed=False)```\n",
    "\n",
    "The typed argument, if set to True, stores results of different argument types separately, i.e. distinguishing between float and integer arguments that are normally considered equal, like 1 and 1.0."
   ]
  },
  {
   "cell_type": "markdown",
   "metadata": {},
   "source": [
    "_Since_ `lru_cache` _uses a dict to store the results, and the keys are made from positional and keyword arguments used in the calls, all the arguments taken by the decorated function must be hashable._ "
   ]
  },
  {
   "cell_type": "markdown",
   "metadata": {},
   "source": [
    "### Generic functions with single dispatch"
   ]
  },
  {
   "cell_type": "markdown",
   "metadata": {},
   "source": [
    "Check Fluent Python - 203"
   ]
  },
  {
   "cell_type": "markdown",
   "metadata": {},
   "source": [
    "## Stacked decorators"
   ]
  },
  {
   "cell_type": "markdown",
   "metadata": {},
   "source": [
    "When two decorators `@d1` and `@d2` are applied to a function f in that order, the result is same as `f = d1(d2(f))`.\n",
    "\n",
    "Means,\n",
    "\n",
    "```python\n",
    "@d1\n",
    "@d2\n",
    "def f():\n",
    "    print(\"f\")\n",
    "```    \n",
    "\n",
    "Is the same as:\n",
    "```python\n",
    "def f():\n",
    "    print(\"f\")\n",
    "\n",
    "f = d1(d2(f))\n",
    "```"
   ]
  },
  {
   "cell_type": "markdown",
   "metadata": {},
   "source": [
    "## Parameterized Decorators"
   ]
  },
  {
   "cell_type": "markdown",
   "metadata": {},
   "source": [
    "How do you make a decorator accept other arguments?\n",
    "The answer is: make a decorator factory that takes those arguments and returns a decorator, which is then applied to the function to be decorated."
   ]
  },
  {
   "cell_type": "code",
   "execution_count": 70,
   "metadata": {},
   "outputs": [],
   "source": [
    "registry = set()\n",
    "\n",
    "def register(active=True):\n",
    "    def decorate(func):\n",
    "        print(f'running register(active={active})->decorate({func})')\n",
    "        if active:\n",
    "            registry.add(func)\n",
    "        else:\n",
    "            registry.discard(func)\n",
    "        \n",
    "        return func\n",
    "    return decorate"
   ]
  },
  {
   "cell_type": "code",
   "execution_count": 71,
   "metadata": {},
   "outputs": [
    {
     "name": "stdout",
     "output_type": "stream",
     "text": [
      "running register(active=False)->decorate(<function f1 at 0x110b8d8c8>)\n"
     ]
    }
   ],
   "source": [
    "@register(active=False)\n",
    "def f1():\n",
    "    print(\"running f1()\")"
   ]
  },
  {
   "cell_type": "markdown",
   "metadata": {},
   "source": [
    "The above deocorator fun is equivalent to:\n",
    "`f = register(active=False)(f)`"
   ]
  },
  {
   "cell_type": "code",
   "execution_count": null,
   "metadata": {},
   "outputs": [],
   "source": []
  }
 ],
 "metadata": {
  "kernelspec": {
   "display_name": "Python 3",
   "language": "python",
   "name": "python3"
  },
  "language_info": {
   "codemirror_mode": {
    "name": "ipython",
    "version": 3
   },
   "file_extension": ".py",
   "mimetype": "text/x-python",
   "name": "python",
   "nbconvert_exporter": "python",
   "pygments_lexer": "ipython3",
   "version": "3.7.3"
  }
 },
 "nbformat": 4,
 "nbformat_minor": 4
}
